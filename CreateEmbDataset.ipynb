{
 "cells": [
  {
   "cell_type": "code",
   "execution_count": 1,
   "id": "restricted-uganda",
   "metadata": {},
   "outputs": [],
   "source": [
    "common_path = \"dataset/\"\n",
    "subfolds = ['commersant', 'ria', 'rbc', 'meduza']\n"
   ]
  },
  {
   "cell_type": "code",
   "execution_count": 6,
   "id": "explicit-peninsula",
   "metadata": {},
   "outputs": [
    {
     "name": "stdout",
     "output_type": "stream",
     "text": [
      "commersant: done 1000 from 4169\n",
      "commersant: done 2000 from 4169\n",
      "commersant: done 3000 from 4169\n",
      "commersant: done 4000 from 4169\n",
      "commersant is scrolled\n",
      "ria: done 1000 from 1376\n",
      "ria is scrolled\n",
      "rbc is scrolled\n",
      "meduza is scrolled\n"
     ]
    }
   ],
   "source": [
    "import os\n",
    "import json\n",
    "for subfold in subfolds:\n",
    "    filenames = os.listdir(path = common_path + subfold)\n",
    "    counter = 0\n",
    "    for filename in filenames:\n",
    "        full_path = common_path + subfold + '/' + filename\n",
    "        with open(full_path) as news_json_file:\n",
    "            news_list = json.load(news_json_file)\n",
    "            for news_dict in news_list:\n",
    "                with open(\"emb_dataset.txt\", \"a\") as dumpfile:\n",
    "                    dumpfile.write(news_dict['text'])\n",
    "        counter += 1\n",
    "        if counter%1000 == 0:\n",
    "            print(\"{}: done {} from {}\".format(subfold, counter, len(filenames)))\n",
    "    print(subfold, \"is scrolled\")"
   ]
  },
  {
   "cell_type": "code",
   "execution_count": null,
   "id": "modern-retreat",
   "metadata": {},
   "outputs": [],
   "source": []
  }
 ],
 "metadata": {
  "kernelspec": {
   "display_name": "Python 3",
   "language": "python",
   "name": "python3"
  },
  "language_info": {
   "codemirror_mode": {
    "name": "ipython",
    "version": 3
   },
   "file_extension": ".py",
   "mimetype": "text/x-python",
   "name": "python",
   "nbconvert_exporter": "python",
   "pygments_lexer": "ipython3",
   "version": "3.8.6"
  }
 },
 "nbformat": 4,
 "nbformat_minor": 5
}
