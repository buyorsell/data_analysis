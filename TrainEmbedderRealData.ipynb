{
 "cells": [
  {
   "cell_type": "code",
   "execution_count": 1,
   "metadata": {
    "colab": {
     "base_uri": "https://localhost:8080/"
    },
    "id": "gphNsfmXrsBI",
    "outputId": "bb2d1a18-94be-449e-a236-ae60cbfb33c9"
   },
   "outputs": [
    {
     "name": "stdout",
     "output_type": "stream",
     "text": [
      "Requirement already satisfied: pymorphy2[fast] in /opt/conda/lib/python3.8/site-packages (0.9.1)\r\n",
      "Requirement already satisfied: pymorphy2-dicts-ru<3.0,>=2.4 in /opt/conda/lib/python3.8/site-packages (from pymorphy2[fast]) (2.4.417127.4579844)\r\n",
      "Requirement already satisfied: docopt>=0.6 in /opt/conda/lib/python3.8/site-packages (from pymorphy2[fast]) (0.6.2)\r\n",
      "Requirement already satisfied: dawg-python>=0.7.1 in /opt/conda/lib/python3.8/site-packages (from pymorphy2[fast]) (0.7.2)\r\n",
      "Requirement already satisfied: DAWG>=0.8 in /opt/conda/lib/python3.8/site-packages (from pymorphy2[fast]) (0.8.0)\r\n"
     ]
    }
   ],
   "source": [
    "!pip install pymorphy2[fast]"
   ]
  },
  {
   "cell_type": "markdown",
   "metadata": {},
   "source": [
    "## Преобразователь новостей в токены"
   ]
  },
  {
   "cell_type": "code",
   "execution_count": 2,
   "metadata": {
    "id": "JLkHD4_ssf9M"
   },
   "outputs": [],
   "source": [
    "from typing import List\n",
    "import nltk\n",
    "import string\n",
    "import pymorphy2\n",
    "import codecs\n",
    "\n",
    "class PrepareNew():\n",
    "  def __init__(self):\n",
    "    self.morph = pymorphy2.MorphAnalyzer()\n",
    "    self.tokenizer = nltk.WordPunctTokenizer()\n",
    "    self.stopwords = set(line.strip() for line in codecs.open('rus_stopwords.txt', \"r\", \"utf_8_sig\").readlines())\n",
    "\n",
    "  def prepare_corp(self, news_list: List[str]):\n",
    "    return [self.newstext2token(news_text) for news_text in news_list]\n",
    "\n",
    "  def newstext2token(self, news_text: str):\n",
    "      tokens = self.tokenizer.tokenize(news_text.lower())\n",
    "      tokens_with_no_punct = [self.morph.parse(w)[0].normal_form for w in tokens if all(c not in string.punctuation for c in w)]\n",
    "      tokens_base_forms = [w for w in tokens_with_no_punct if w not in self.stopwords and w.isalpha()]\n",
    "      tokens_last = [w for w in tokens_base_forms if len(w)>1]\n",
    "      return tokens_last\n"
   ]
  },
  {
   "cell_type": "markdown",
   "metadata": {},
   "source": [
    "## Usage Example"
   ]
  },
  {
   "cell_type": "code",
   "execution_count": 3,
   "metadata": {
    "colab": {
     "base_uri": "https://localhost:8080/"
    },
    "id": "roYitDHkwJFz",
    "outputId": "686c652b-90a3-4118-840b-b2259fe9756e"
   },
   "outputs": [
    {
     "name": "stdout",
     "output_type": "stream",
     "text": [
      "['выйти', 'новый', 'серия', 'лока']\n",
      "['кофе', 'вкусный']\n",
      "['нил', 'гейман', 'прекрасный']\n",
      "['металлик', 'топ']\n",
      "['толстой', 'текст', 'переполненный', 'вода', 'своеобразный', 'разжёвывание', 'повторение', 'информация', 'читатель']\n"
     ]
    }
   ],
   "source": [
    "test_news = [\n",
    "             \"Вышла новая серия Локи\",\n",
    "             \"Кофе очень вкусный\", \n",
    "             \"Нил Гейман прекрасен\",\n",
    "             \"Металлика топ\",\n",
    "             \"Толстой тексты, переполненные водой и своеобразным разжёвыванием, повторением информации для читателя\"\n",
    "]\n",
    "test_corp = PrepareNew().prepare_corp(test_news)\n",
    "for i in test_corp:\n",
    "  print(i)"
   ]
  },
  {
   "cell_type": "markdown",
   "metadata": {},
   "source": [
    "## Получение текста ведомостей"
   ]
  },
  {
   "cell_type": "code",
   "execution_count": 4,
   "metadata": {
    "id": "u_SgHcln1rP-"
   },
   "outputs": [],
   "source": [
    "raw_data = [line.strip() for line in codecs.open('emb_dataset.txt', \"r\", \"utf_8_sig\").readlines() if line.strip()!=\"\"]"
   ]
  },
  {
   "cell_type": "code",
   "execution_count": 5,
   "metadata": {
    "colab": {
     "base_uri": "https://localhost:8080/"
    },
    "id": "tD-qVita9fAb",
    "outputId": "33715010-3bd2-436f-ad81-cf1f50194976"
   },
   "outputs": [
    {
     "data": {
      "text/plain": [
       "['На газохранилище в Казани на улице Северо-Западная, 10 произошел взрыв, сообщило МЧС. Один человек погиб, несколько пострадали. Следственный комитет России (СКР) по Татарстану утверждает, что взрыв произошел на газовой заправке. Возбуждено уголовное дело за нарушение правил безопасности на взрывоопасных объектах (ст. 217 УК РФ).',\n",
       " '«В результате хлопка, произошедшего на газозаправочной станции, пострадали рабочие, количество которых уточняется. По данному факту следственными органами СКР по республике Татарстан возбуждено уголовное дело»,— говорится в пресс-релизе ведомства.',\n",
       " 'По данным МЧС, взрыв произошел на наземном газохранилище компании «Газпром сжиженный газ». Пожару присвоен четвертый ранг опасности. Есть риск распространения огня на другие емкости с газом — всего на станции расположено 24 резервуара со сжиженным газом, сообщил источник ТАСС.',\n",
       " 'Точное число пострадавших неизвестно. Минздрав Татарстана сообщил «РИА Новости» об одном погибшем и двух пострадавших. По данным МЧС, пострадали четыре человека.',\n",
       " 'К тушению пожара готовят вертолет Ми-8, на место прибыл пожарный поезд. Всего на месте работают 138 человек и 48 единиц техники.',\n",
       " 'В Москве умерли еще 44 пациента с коронавирусом, сообщил оперативный штаб по борьбе с COVID-19 в столице. Накануне прирост составил 49 смертей. Общее число умерших достигло 3231.',\n",
       " '«В Москве скончались 44 пациента, у всех был подтвержден диагноз пневмония и получен положительный результат тестов на коронавирусную инфекцию»,— говорится в сообщении оперативного штаба в Telegram-канале.',\n",
       " 'В России за последние сутки умерли 183 человека. Общее число смертей достигло 6515. Всего в стране были заражены 511 тыс. человек, в Москве — 202 тыс.',\n",
       " 'В мае в Москве всего умерли 15,7 тыс. человек, из них 3,7 тыс. случаев обусловлены коронавирусом или обострением хронического заболевания на его фоне. С 9 июня в Москве отменены режимы самоизоляции и электронных пропусков. Другие ограничения будут снимать поэтапно до 23 июня.',\n",
       " 'О смертности от коронавируса в России — в материале “Ъ” «Смертность прибавила ход».']"
      ]
     },
     "execution_count": 5,
     "metadata": {},
     "output_type": "execute_result"
    }
   ],
   "source": [
    "raw_data[:10]"
   ]
  },
  {
   "cell_type": "code",
   "execution_count": 6,
   "metadata": {
    "id": "dKWQMBED9sD4"
   },
   "outputs": [],
   "source": [
    "my_corp = PrepareNew().prepare_corp(raw_data)"
   ]
  },
  {
   "cell_type": "code",
   "execution_count": 7,
   "metadata": {
    "id": "Oe3Jijm_-GrD"
   },
   "outputs": [],
   "source": [
    "my_corp = my_corp[1::2]"
   ]
  },
  {
   "cell_type": "markdown",
   "metadata": {},
   "source": [
    "## Модель-эмбеддер"
   ]
  },
  {
   "cell_type": "code",
   "execution_count": 8,
   "metadata": {
    "colab": {
     "base_uri": "https://localhost:8080/"
    },
    "id": "fpCBUebo_fdT",
    "outputId": "d584e29f-2b82-43b7-aa17-8d0127d752e8"
   },
   "outputs": [],
   "source": [
    "from gensim.models import Word2Vec\n",
    "from gensim.models import Phrases\n",
    "bigram_transformer = Phrases(my_corp)\n",
    "model = Word2Vec(bigram_transformer[my_corp], window=5, min_count=2)"
   ]
  },
  {
   "cell_type": "code",
   "execution_count": 9,
   "metadata": {
    "colab": {
     "base_uri": "https://localhost:8080/"
    },
    "id": "eqDQWcGmDTcr",
    "outputId": "f0bf0101-2285-45b8-8946-c5f37437a24c"
   },
   "outputs": [
    {
     "data": {
      "text/plain": [
       "[('миллиард_рубль', 0.828010618686676),\n",
       " ('миллион_рубль', 0.8243743777275085),\n",
       " ('общий_сумма', 0.801665186882019),\n",
       " ('размер', 0.7922245264053345),\n",
       " ('тысяча_рубль', 0.7916114926338196),\n",
       " ('средний_размер', 0.7824811935424805),\n",
       " ('составлять_рубль', 0.7791329622268677),\n",
       " ('возмещение', 0.7769399881362915),\n",
       " ('размер_тысяча', 0.7733787298202515),\n",
       " ('региональный_бюджет', 0.7682029604911804)]"
      ]
     },
     "execution_count": 9,
     "metadata": {},
     "output_type": "execute_result"
    }
   ],
   "source": [
    "model.wv.most_similar('рубль', topn=10)"
   ]
  },
  {
   "cell_type": "code",
   "execution_count": 10,
   "metadata": {},
   "outputs": [],
   "source": [
    "model.save(\"word2vec.model\")"
   ]
  },
  {
   "cell_type": "code",
   "execution_count": 11,
   "metadata": {},
   "outputs": [
    {
     "data": {
      "text/plain": [
       "[('темп_рост', 0.9167305827140808),\n",
       " ('курс_рубль', 0.9096757173538208),\n",
       " ('рост_экономика', 0.9013553261756897),\n",
       " ('ввп', 0.8933051228523254),\n",
       " ('рост_ввп', 0.8875564336776733),\n",
       " ('цена_нефть', 0.886102557182312),\n",
       " ('прогноз', 0.880277693271637),\n",
       " ('уровень_инфляция', 0.8788392543792725),\n",
       " ('ключевой_ставка', 0.878484308719635),\n",
       " ('безработица', 0.8775793313980103)]"
      ]
     },
     "execution_count": 11,
     "metadata": {},
     "output_type": "execute_result"
    }
   ],
   "source": [
    "model.wv.most_similar('инфляция', topn=10)"
   ]
  },
  {
   "cell_type": "code",
   "execution_count": 12,
   "metadata": {},
   "outputs": [
    {
     "data": {
      "text/plain": [
       "[('алексей_навальный', 0.899869441986084),\n",
       " ('оппозиционер', 0.772693932056427),\n",
       " ('политзаключённый', 0.6728214621543884),\n",
       " ('навальный_отравить', 0.6484887003898621),\n",
       " ('навальный_отбывать', 0.6436409950256348),\n",
       " ('леонид_волков', 0.6417167782783508),\n",
       " ('пивоваров', 0.6317705512046814),\n",
       " ('оппозиционный_политика', 0.6289198994636536),\n",
       " ('правозащитник', 0.6281477808952332),\n",
       " ('любовь_соболь', 0.623923122882843)]"
      ]
     },
     "execution_count": 12,
     "metadata": {},
     "output_type": "execute_result"
    }
   ],
   "source": [
    "model.wv.most_similar('навальный', topn=10)"
   ]
  },
  {
   "cell_type": "code",
   "execution_count": null,
   "metadata": {},
   "outputs": [],
   "source": []
  }
 ],
 "metadata": {
  "colab": {
   "collapsed_sections": [],
   "name": "TrainMyEmbedder.ipynb",
   "provenance": []
  },
  "kernelspec": {
   "display_name": "Python 3",
   "language": "python",
   "name": "python3"
  },
  "language_info": {
   "codemirror_mode": {
    "name": "ipython",
    "version": 3
   },
   "file_extension": ".py",
   "mimetype": "text/x-python",
   "name": "python",
   "nbconvert_exporter": "python",
   "pygments_lexer": "ipython3",
   "version": "3.8.6"
  }
 },
 "nbformat": 4,
 "nbformat_minor": 1
}
