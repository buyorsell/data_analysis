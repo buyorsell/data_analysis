{
 "cells": [
  {
   "cell_type": "markdown",
   "metadata": {},
   "source": [
    "## Импортируем всё на свете и инициализируем рандом"
   ]
  },
  {
   "cell_type": "code",
   "execution_count": 3,
   "metadata": {
    "id": "IKmSE8meZKzK"
   },
   "outputs": [],
   "source": [
    "import math\n",
    "import random\n",
    "import string\n",
    "import numpy as np\n",
    "import pandas as pd\n",
    "import seaborn as sns\n",
    "import torch\n",
    "import nltk\n",
    "import gensim\n",
    "import gensim.downloader as api\n"
   ]
  },
  {
   "cell_type": "code",
   "execution_count": 4,
   "metadata": {
    "id": "Yqcn8FjyZSM6"
   },
   "outputs": [],
   "source": [
    "random.seed(42)\n",
    "np.random.seed(42)\n",
    "torch.random.manual_seed(42)\n",
    "torch.cuda.random.manual_seed(42)\n",
    "torch.cuda.random.manual_seed_all(42)\n",
    "device = \"cuda\" if torch.cuda.is_available() else \"cpu\""
   ]
  },
  {
   "cell_type": "markdown",
   "metadata": {},
   "source": [
    "## Подгружаем русскоязычные вектора"
   ]
  },
  {
   "cell_type": "code",
   "execution_count": 5,
   "metadata": {
    "colab": {
     "base_uri": "https://localhost:8080/"
    },
    "id": "ZqTV8lGHaP9N",
    "outputId": "d45629ce-f63f-4c31-e5cd-2e06ccfb6179"
   },
   "outputs": [
    {
     "name": "stdout",
     "output_type": "stream",
     "text": [
      "[==================================================] 100.0% 198.8/198.8MB downloaded\n"
     ]
    }
   ],
   "source": [
    "w2v = api.load(\"word2vec-ruscorpora-300\")"
   ]
  },
  {
   "cell_type": "markdown",
   "metadata": {},
   "source": [
    "## Импортнем pymorphy"
   ]
  },
  {
   "cell_type": "markdown",
   "metadata": {},
   "source": [
    "Так как корпус учитывает часть речи"
   ]
  },
  {
   "cell_type": "code",
   "execution_count": 6,
   "metadata": {
    "colab": {
     "base_uri": "https://localhost:8080/"
    },
    "id": "rNp3l725dJ5x",
    "outputId": "b0b76fad-27aa-471d-9a0e-bb30b4369a2e"
   },
   "outputs": [
    {
     "name": "stdout",
     "output_type": "stream",
     "text": [
      "Requirement already satisfied: pymorphy2[fast] in /opt/conda/lib/python3.8/site-packages (0.9.1)\n",
      "Requirement already satisfied: pymorphy2-dicts-ru<3.0,>=2.4 in /opt/conda/lib/python3.8/site-packages (from pymorphy2[fast]) (2.4.417127.4579844)\n",
      "Requirement already satisfied: dawg-python>=0.7.1 in /opt/conda/lib/python3.8/site-packages (from pymorphy2[fast]) (0.7.2)\n",
      "Requirement already satisfied: docopt>=0.6 in /opt/conda/lib/python3.8/site-packages (from pymorphy2[fast]) (0.6.2)\n",
      "Collecting DAWG>=0.8\n",
      "  Downloading DAWG-0.8.0.tar.gz (371 kB)\n",
      "\u001b[K     |████████████████████████████████| 371 kB 1.7 MB/s eta 0:00:01\n",
      "\u001b[?25hBuilding wheels for collected packages: DAWG\n",
      "  Building wheel for DAWG (setup.py) ... \u001b[?25ldone\n",
      "\u001b[?25h  Created wheel for DAWG: filename=DAWG-0.8.0-cp38-cp38-linux_x86_64.whl size=1333613 sha256=88d285efb250f903fb736f11dd40c6a0665429c6242b62c05ea31ff1e5438aac\n",
      "  Stored in directory: /home/digitaljay/.cache/pip/wheels/1c/e6/8f/313a7ccc57b29a7affb7205664277a1d5ebe73bf600a69a615\n",
      "Successfully built DAWG\n",
      "Installing collected packages: DAWG\n",
      "Successfully installed DAWG-0.8.0\n"
     ]
    }
   ],
   "source": [
    "!pip install pymorphy2[fast]"
   ]
  },
  {
   "cell_type": "code",
   "execution_count": 7,
   "metadata": {
    "id": "aZ27mUXXc9s0"
   },
   "outputs": [],
   "source": [
    "import pymorphy2\n",
    "morph = pymorphy2.MorphAnalyzer()"
   ]
  },
  {
   "cell_type": "markdown",
   "metadata": {},
   "source": [
    "## Вспомогательная для присоединения части речи"
   ]
  },
  {
   "cell_type": "code",
   "execution_count": 8,
   "metadata": {
    "id": "2bEKN3J4cmnH"
   },
   "outputs": [],
   "source": [
    "def word2key(word: str):\n",
    "  p = morph.parse(word)[0]\n",
    "  return word + \"_\" + p.tag.POS"
   ]
  },
  {
   "cell_type": "markdown",
   "metadata": {},
   "source": [
    "## Cosine Similarity"
   ]
  },
  {
   "cell_type": "code",
   "execution_count": 9,
   "metadata": {
    "id": "CIDlY1GDe0vB"
   },
   "outputs": [],
   "source": [
    "from sklearn.metrics.pairwise import cosine_similarity\n",
    "def get_similarity(word1: str, word2: str):\n",
    "  return cosine_similarity(w2v.get_vector(word2key(word1)).reshape(1, -1), w2v.get_vector(word2key(word2)).reshape(1, -1))[0][0]"
   ]
  },
  {
   "cell_type": "code",
   "execution_count": 10,
   "metadata": {
    "colab": {
     "base_uri": "https://localhost:8080/"
    },
    "id": "YhJTKE76fTK0",
    "outputId": "d2f8685f-77c7-4814-8c8e-83337e59cccb"
   },
   "outputs": [
    {
     "name": "stdout",
     "output_type": "stream",
     "text": [
      "0.784931\n"
     ]
    }
   ],
   "source": [
    "print(get_similarity(\"кофе\", \"чай\"))"
   ]
  },
  {
   "cell_type": "markdown",
   "metadata": {},
   "source": [
    "## Просто приколюха"
   ]
  },
  {
   "cell_type": "code",
   "execution_count": 11,
   "metadata": {
    "colab": {
     "base_uri": "https://localhost:8080/"
    },
    "id": "02d8yoZKdgRk",
    "outputId": "581ed58e-b5c0-4938-bda6-53420365fb98"
   },
   "outputs": [
    {
     "name": "stdout",
     "output_type": "stream",
     "text": [
      "[('чай_NOUN', 0.7849310040473938), ('чашка_NOUN', 0.718063235282898), ('кофей_NOUN', 0.6924780011177063), ('каппучино_NOUN', 0.6689926385879517), ('коньяк_NOUN', 0.6658537983894348), ('какао_NOUN', 0.6573574542999268), ('эспрессо_NOUN', 0.6461552977561951), ('стакан_NOUN', 0.6439230442047119), ('свежезаваренный_ADJ', 0.6405013799667358), ('чашечка_NOUN', 0.6390146017074585)]\n"
     ]
    }
   ],
   "source": [
    "print(w2v.most_similar(word2key(\"кофе\")))"
   ]
  }
 ],
 "metadata": {
  "colab": {
   "collapsed_sections": [],
   "name": "CreateEmbsVTB.ipynb",
   "provenance": []
  },
  "kernelspec": {
   "display_name": "Python 3",
   "language": "python",
   "name": "python3"
  },
  "language_info": {
   "codemirror_mode": {
    "name": "ipython",
    "version": 3
   },
   "file_extension": ".py",
   "mimetype": "text/x-python",
   "name": "python",
   "nbconvert_exporter": "python",
   "pygments_lexer": "ipython3",
   "version": "3.8.6"
  }
 },
 "nbformat": 4,
 "nbformat_minor": 1
}
