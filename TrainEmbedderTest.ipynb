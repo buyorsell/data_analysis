{
 "cells": [
  {
   "cell_type": "code",
   "execution_count": 1,
   "metadata": {
    "colab": {
     "base_uri": "https://localhost:8080/"
    },
    "id": "gphNsfmXrsBI",
    "outputId": "bb2d1a18-94be-449e-a236-ae60cbfb33c9"
   },
   "outputs": [
    {
     "name": "stdout",
     "output_type": "stream",
     "text": [
      "Requirement already satisfied: pymorphy2[fast] in /opt/conda/lib/python3.8/site-packages (0.9.1)\r\n",
      "Requirement already satisfied: dawg-python>=0.7.1 in /opt/conda/lib/python3.8/site-packages (from pymorphy2[fast]) (0.7.2)\r\n",
      "Requirement already satisfied: docopt>=0.6 in /opt/conda/lib/python3.8/site-packages (from pymorphy2[fast]) (0.6.2)\r\n",
      "Requirement already satisfied: pymorphy2-dicts-ru<3.0,>=2.4 in /opt/conda/lib/python3.8/site-packages (from pymorphy2[fast]) (2.4.417127.4579844)\r\n",
      "Requirement already satisfied: DAWG>=0.8 in /opt/conda/lib/python3.8/site-packages (from pymorphy2[fast]) (0.8.0)\r\n"
     ]
    }
   ],
   "source": [
    "!pip install pymorphy2[fast]"
   ]
  },
  {
   "cell_type": "markdown",
   "metadata": {},
   "source": [
    "## Преобразователь новостей в токены"
   ]
  },
  {
   "cell_type": "code",
   "execution_count": 2,
   "metadata": {
    "id": "JLkHD4_ssf9M"
   },
   "outputs": [],
   "source": [
    "from typing import List\n",
    "import nltk\n",
    "import string\n",
    "import pymorphy2\n",
    "import codecs\n",
    "\n",
    "class PrepareNew():\n",
    "  def __init__(self):\n",
    "    self.morph = pymorphy2.MorphAnalyzer()\n",
    "    self.tokenizer = nltk.WordPunctTokenizer()\n",
    "    self.stopwords = set(line.strip() for line in codecs.open('rus_stopwords.txt', \"r\", \"utf_8_sig\").readlines())\n",
    "\n",
    "  def prepare_corp(self, news_list: List[str]):\n",
    "    return [self.newstext2token(news_text) for news_text in news_list]\n",
    "\n",
    "  def newstext2token(self, news_text: str):\n",
    "      tokens = self.tokenizer.tokenize(news_text.lower())\n",
    "      tokens_with_no_punct = [self.morph.parse(w)[0].normal_form for w in tokens if all(c not in string.punctuation for c in w)]\n",
    "      tokens_base_forms = [w for w in tokens_with_no_punct if w not in self.stopwords and w.isalpha()]\n",
    "      tokens_last = [w for w in tokens_base_forms if len(w)>1]\n",
    "      return tokens_last\n"
   ]
  },
  {
   "cell_type": "markdown",
   "metadata": {},
   "source": [
    "## Usage Example"
   ]
  },
  {
   "cell_type": "code",
   "execution_count": 3,
   "metadata": {
    "colab": {
     "base_uri": "https://localhost:8080/"
    },
    "id": "roYitDHkwJFz",
    "outputId": "686c652b-90a3-4118-840b-b2259fe9756e"
   },
   "outputs": [
    {
     "name": "stdout",
     "output_type": "stream",
     "text": [
      "['выйти', 'новый', 'серия', 'лока']\n",
      "['кофе', 'вкусный']\n",
      "['нил', 'гейман', 'прекрасный']\n",
      "['металлик', 'топ']\n",
      "['толстой', 'текст', 'переполненный', 'вода', 'своеобразный', 'разжёвывание', 'повторение', 'информация', 'читатель']\n"
     ]
    }
   ],
   "source": [
    "test_news = [\n",
    "             \"Вышла новая серия Локи\",\n",
    "             \"Кофе очень вкусный\", \n",
    "             \"Нил Гейман прекрасен\",\n",
    "             \"Металлика топ\",\n",
    "             \"Толстой тексты, переполненные водой и своеобразным разжёвыванием, повторением информации для читателя\"\n",
    "]\n",
    "test_corp = PrepareNew().prepare_corp(test_news)\n",
    "for i in test_corp:\n",
    "  print(i)"
   ]
  },
  {
   "cell_type": "markdown",
   "metadata": {},
   "source": [
    "## Получение текста ведомостей"
   ]
  },
  {
   "cell_type": "code",
   "execution_count": 4,
   "metadata": {
    "id": "u_SgHcln1rP-"
   },
   "outputs": [],
   "source": [
    "raw_data = [line.strip() for line in codecs.open('ved.txt', \"r\", \"utf_8_sig\").readlines() if line.strip()!=\"\"]"
   ]
  },
  {
   "cell_type": "code",
   "execution_count": 5,
   "metadata": {
    "colab": {
     "base_uri": "https://localhost:8080/"
    },
    "id": "tD-qVita9fAb",
    "outputId": "33715010-3bd2-436f-ad81-cf1f50194976"
   },
   "outputs": [
    {
     "data": {
      "text/plain": [
       "['Реальный эффективный курс рубля в январе снизился на 3,1%',\n",
       " 'Реальный эффективный курс рубля к корзине валют государств - основных торговых партнеров России в январе 2015 г. снизился на 3,1% по отношению к декабрю 2014 г.,\\xa0говорится в сообщении Центрального банка.Индекс реального курса рубля к доллару понизился на 6,2%, к евро - на 2,1%.Индекс номинального эффективного курса рубля к иностранным валютам снизился на 6,5%, в том числе к евро - на 5,9%, к доллару - на 10,2%.По уточненным данным Банка России, реальный эффективный курс рубля в 2014 г. снизился на 26,7% (по опубликованной ранее предварительной оценке - на 27,2%) против снижения на 2,8% в 2013 г. и укрепления на 5,3% в 2012 г.',\n",
       " 'Девальвация и контрсанкции обеспечили половину инфляции в 2014 году - Минэкономразвития',\n",
       " 'Вклад девальвации рубля в инфляцию 2014 г. составил 4,2-4,3 процентных пункта, тогда как вклад продовольственного эмбарго был на уровне 1,4 п. п., отмечается в мониторинге Министерства экономического развития.\"В результате вклад девальвации рубля в инфляцию 2014 г. втрое превысил вклад продовольственного эмбарго из-за принятых контрсанкций\", - приводят свои оценки в министерстве.Таким образом, два фактора \"обеспечили\" половину инфляции в 2014 г., которая составила 11,4%.Из 4,2-4,3 п. п., являвшихся вкладом девальвации национальной валюты, 2,3-2,4 п. п. пришлось на удорожание продовольствия. Продовольственные товары, попавшие под контрсанкции, за 2014 г. подорожали на 17,9%. Продовольственные товары, не попавшие под контрсанкции, подорожали за 2014 г. на 11,9%, отмечает министерство.',\n",
       " '81% россиян узнают об экономической ситуации из центральных телеканалов',\n",
       " 'Основным источником информации об экономической ситуации в России для 81% граждан страны является телевидение, свидетельствуют данные  опроса, проведенного фондом \"Общественное мнение\" 31 января - 1 февраля среди 1000 респондентов. При этом россияне в целом пессимистично оценивают экономическую ситуацию в стране: 46% называют ее удовлетворительной, 41% - плохой. Положительную динамику развития экономики России заметили лишь 7% участников телефонного опроса.Телевидение остается основным источником информации об экономике страны. 81% респондентов именно оттуда узнают последние новости об экономике.  Еще 40% используют для этого интернет, 32% опираются на собственные наблюдения, 25% доверяют газетам, а 23% - информации от родственников и знакомых, 15% слушают радио.50% опрошенных считают центральные телеканалы объективными в оценке экономической ситуации в России. 34% уверены в обратном, 10% затрудняются с ответом, а 3% заявили, что не смотрят центральные каналы.46% считают, что в действительности экономическая ситуация в России сегодня хуже, чем сообщают центральные телеканалы. 35% полагают, что разницы между реальностью и тем, что говорят по телевидению, практически нет. Еще 6% уверены, что ситуация лучше, чем ее преподносят телеканалы, 7% затрудняются с ответом.',\n",
       " 'S&P понизило кредитный рейтинг Греции до B-',\n",
       " 'Международное рейтинговое агентство Standard & Poor\\'s понизило долгосрочный кредитный рейтинг Греции с B до B-, прогноз - «негативный», сообщает AFP. Причиной этого рейтингового действия является сокращение для страны возможности получения новой финансовой программы от кредиторов.\"Понижение отражает мнение агентства о том, что ограничения ликвидности, оказывающие давление на греческие банки и экономику страны, уменьшили временные рамки, во время которых новое правительство может достигнуть договоренности по программе финансирования с официальными кредиторами\", - говорится в сообщении агентства.',\n",
       " 'Отключение России от SWIFT серьезно ухудшит отношения Москвы и Запада - глава ВТБ',\n",
       " 'Отключение российских банков от международной платежной системы SWIFT повлекло бы серьезное ухудшение обстановки в отношениях между Западом и Россией, заявил журналистам в Мюнхене глава ВТБ Андрей Костин.Он принимал участие во встрече российских и германских деловых кругов в формате рабочего завтрака в субботу.Костин отметил, что санкции, введенные против России, являются свидетельством экономической войны против Москвы. \"Это так и есть, все меры, которые принимаются Западом, - это методы ведения экономической войны, торговой, финансовой\", - сказал он.\"Отключение SWIFT - использование значительно более тяжелого \"вооружения\" в этой войне и, конечно, будет означать серьезное ухудшение общего климата и общей обстановки во взаимоотношениях с Западом\", - отметил банкир. Если такой шаг все же последует, то придется \"как-то на коленке приспосабливаться\", - заметил глава ВТБ.\"Конечно, работа банков не остановится, но это серьезно затруднит нашу работу, работу наших клиентов, потому что расчеты, конечно, будут осуществляться медленнее\", - сказал он.']"
      ]
     },
     "execution_count": 5,
     "metadata": {},
     "output_type": "execute_result"
    }
   ],
   "source": [
    "raw_data[:10]"
   ]
  },
  {
   "cell_type": "code",
   "execution_count": 6,
   "metadata": {
    "id": "dKWQMBED9sD4"
   },
   "outputs": [],
   "source": [
    "my_corp = PrepareNew().prepare_corp(raw_data)"
   ]
  },
  {
   "cell_type": "code",
   "execution_count": 7,
   "metadata": {
    "id": "Oe3Jijm_-GrD"
   },
   "outputs": [],
   "source": [
    "my_corp = my_corp[1::2]"
   ]
  },
  {
   "cell_type": "markdown",
   "metadata": {},
   "source": [
    "## Модель-эмбеддер"
   ]
  },
  {
   "cell_type": "code",
   "execution_count": 8,
   "metadata": {
    "colab": {
     "base_uri": "https://localhost:8080/"
    },
    "id": "fpCBUebo_fdT",
    "outputId": "d584e29f-2b82-43b7-aa17-8d0127d752e8"
   },
   "outputs": [],
   "source": [
    "from gensim.models import Word2Vec\n",
    "from gensim.models import Phrases\n",
    "bigram_transformer = Phrases(my_corp)\n",
    "model = Word2Vec(bigram_transformer[my_corp], window=5, min_count=2)"
   ]
  },
  {
   "cell_type": "code",
   "execution_count": 9,
   "metadata": {
    "colab": {
     "base_uri": "https://localhost:8080/"
    },
    "id": "eqDQWcGmDTcr",
    "outputId": "f0bf0101-2285-45b8-8946-c5f37437a24c"
   },
   "outputs": [
    {
     "data": {
      "text/plain": [
       "[('падать', 0.9819367527961731),\n",
       " ('цена_продовольствие', 0.977623701095581),\n",
       " ('оставаться_низкий', 0.973404049873352),\n",
       " ('существенно_увеличиться', 0.9731937646865845),\n",
       " ('чистый_отток', 0.9731248021125793),\n",
       " ('следующий_десятилетие', 0.9726873636245728),\n",
       " ('сильно', 0.9725794792175293),\n",
       " ('доходность_облигация', 0.9713980555534363),\n",
       " ('говориться_обзор', 0.9708833694458008),\n",
       " ('снижаться', 0.9707979559898376)]"
      ]
     },
     "execution_count": 9,
     "metadata": {},
     "output_type": "execute_result"
    }
   ],
   "source": [
    "model.wv.most_similar('рубль', topn=10)"
   ]
  },
  {
   "cell_type": "code",
   "execution_count": 12,
   "metadata": {},
   "outputs": [],
   "source": [
    "model.save(\"word2vec.model\")"
   ]
  }
 ],
 "metadata": {
  "colab": {
   "collapsed_sections": [],
   "name": "TrainMyEmbedder.ipynb",
   "provenance": []
  },
  "kernelspec": {
   "display_name": "Python 3",
   "language": "python",
   "name": "python3"
  },
  "language_info": {
   "codemirror_mode": {
    "name": "ipython",
    "version": 3
   },
   "file_extension": ".py",
   "mimetype": "text/x-python",
   "name": "python",
   "nbconvert_exporter": "python",
   "pygments_lexer": "ipython3",
   "version": "3.8.6"
  }
 },
 "nbformat": 4,
 "nbformat_minor": 1
}
